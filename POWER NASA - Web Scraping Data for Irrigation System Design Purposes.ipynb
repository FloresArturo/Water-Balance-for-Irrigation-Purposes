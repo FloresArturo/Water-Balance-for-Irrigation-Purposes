{
 "cells": [
  {
   "cell_type": "markdown",
   "metadata": {},
   "source": [
    "# Web Scraping Data for Irrigation System Design Purposes"
   ]
  },
  {
   "cell_type": "markdown",
   "metadata": {},
   "source": [
    "### The POWER Project from NASA (*) provides data sets from research done to support renewable energy, building energy efficiency and agricultural needs. \n"
   ]
  },
  {
   "cell_type": "markdown",
   "metadata": {},
   "source": [
    "Web Scraping means obtaining data from online websites. In some cases these databases have a GUI (Graphical User Interface) that allows users to interact with the program, but sometimes it´s easier to create a code that does this automatically. By doing this, an API (Application Programming Interface) is required. An API provides the instructions the program needs to perform it´s functions with a code, allowing the user to request information freely and with less steps than using the GUI. POWER NASA website allows user to either use a simple GUI or an API, having each advantages over the other. In the present document, the purpose is to automatize as much as possible the process to reduce the time invested in creating the year water balance."
   ]
  },
  {
   "cell_type": "markdown",
   "metadata": {},
   "source": [
    "In order to do so, the data required from the program to work will be:\n",
    " - Location: Latitude and Longitude of the study area"
   ]
  },
  {
   "cell_type": "markdown",
   "metadata": {},
   "source": [
    "1. Import the required library:\n",
    "    - urllib.request = this library contains classes and functions that allow python to open URL (Uniform Resource Locator). "
   ]
  },
  {
   "cell_type": "code",
   "execution_count": 1,
   "metadata": {},
   "outputs": [],
   "source": [
    "import urllib.request as urlib"
   ]
  },
  {
   "cell_type": "markdown",
   "metadata": {},
   "source": [
    "2. Established dates:\n",
    "    - start and end date for the data to acquired = use the format YYYYMMDD (minimum start date 2001/01/01):"
   ]
  },
  {
   "cell_type": "code",
   "execution_count": 2,
   "metadata": {},
   "outputs": [],
   "source": [
    "start=20010101\n",
    "end=20221231"
   ]
  },
  {
   "cell_type": "markdown",
   "metadata": {},
   "source": [
    "3. Enter your location using latitude and longitude format:"
   ]
  },
  {
   "cell_type": "code",
   "execution_count": 3,
   "metadata": {},
   "outputs": [],
   "source": [
    "latitude=42.030781\n",
    "longitude=-93.631912"
   ]
  },
  {
   "cell_type": "markdown",
   "metadata": {},
   "source": [
    "4. Select your community (research purpose):\n",
    "    - ag: agroclimatology = RECOMMENDED for the purpose of irrigation\n",
    "    - sb: sustainable buildings\n",
    "    - re: renewable energy"
   ]
  },
  {
   "cell_type": "code",
   "execution_count": 4,
   "metadata": {},
   "outputs": [],
   "source": [
    "community='ag'"
   ]
  },
  {
   "cell_type": "markdown",
   "metadata": {},
   "source": [
    "5. Desired climate parameters:\n",
    "    - TOA_SW_DWN : top-of-atmosphere shortwave downward irradiance (MJ/m^2/day)\n",
    "    - T2M_MAX: temperature at 2 meters maximum (C)\n",
    "    - T2M_MIN: temperature at 2 meters minimum (C)\n",
    "    - PRECTOTCORR: precipitation (mm/day)\n",
    "    - WS2M: wind speed at 2 meters (m/s)"
   ]
  },
  {
   "cell_type": "code",
   "execution_count": 5,
   "metadata": {},
   "outputs": [],
   "source": [
    "desired_parameters=('TOA_SW_DWN','T2M_MAX', 'T2M_MIN','PRECTOTCORR','WS2M')"
   ]
  },
  {
   "cell_type": "markdown",
   "metadata": {},
   "source": [
    "Some other details are going to be already established, such as temporary parameter (daily), output format (csv) and headers (disabled)."
   ]
  },
  {
   "cell_type": "markdown",
   "metadata": {},
   "source": [
    "The program will create the 'request URL', it will extract the data and export it to a csv file.\n",
    "Provide the name for the desired file:"
   ]
  },
  {
   "cell_type": "code",
   "execution_count": 6,
   "metadata": {},
   "outputs": [],
   "source": [
    "name=\"data\""
   ]
  },
  {
   "cell_type": "code",
   "execution_count": 7,
   "metadata": {},
   "outputs": [
    {
     "data": {
      "text/plain": [
       "('data.csv', <http.client.HTTPMessage at 0x27fc6d130b8>)"
      ]
     },
     "execution_count": 7,
     "metadata": {},
     "output_type": "execute_result"
    }
   ],
   "source": [
    "csv_name=name+\".csv\"\n",
    "\n",
    "parameters=[]\n",
    "for i in desired_parameters:\n",
    "    parameters.append(i + \"%2C\")\n",
    "result=\"\".join(parameters)\n",
    "result=result[:-3]\n",
    "\n",
    "url='https://power.larc.nasa.gov/api/temporal/daily/point?start='+str(start)+'&end='+str(end)+'&latitude='+str(latitude)+'&longitude='+str(longitude)+'&community='+community+'&parameters='+result+'&format=csv&header=false'\n",
    "urlib.urlretrieve(url, csv_name)"
   ]
  },
  {
   "cell_type": "markdown",
   "metadata": {},
   "source": [
    "Once the previous code has been ran, the following lines will group the data by month and obtain the monthly averages for the parameters selected previously and will export it to a new excel file."
   ]
  },
  {
   "cell_type": "code",
   "execution_count": 8,
   "metadata": {},
   "outputs": [],
   "source": [
    "#these libraries permit python to work with dataframes and arrays\n",
    "import pandas as pd\n",
    "import numpy as np\n",
    "\n",
    "#this function will help filter the data and organize it month by month\n",
    "def mes (x):\n",
    "    if x >=1 and x<=31:\n",
    "        return 'january'\n",
    "    elif x >=32 and x<=59:\n",
    "         return  \"february\"\n",
    "    elif x >=60 and x<=90:\n",
    "        return  'march'\n",
    "    elif x >=91 and x<=120:\n",
    "         return  'april'\n",
    "    elif x>=121 and x<=151:\n",
    "         return  'may'\n",
    "    elif x>=152 and x<=181:\n",
    "        return 'june'\n",
    "    elif x>=182 and x<=212:\n",
    "         return 'july'\n",
    "    elif x>=213 and x<=243:\n",
    "         return  'august'\n",
    "    elif x>=244 and x<=273:\n",
    "        return  'september'\n",
    "    elif x>=274 and x<=304:\n",
    "         return  'october'\n",
    "    elif x>=305 and x<=334:\n",
    "         return 'november'\n",
    "    elif x>=335 and x<=365:\n",
    "        return  'december'\n",
    "index=['january', 'february', 'march', 'april', 'may', 'june', 'july', 'august', 'september', 'october', 'november', 'december']\n",
    "\n",
    "data=pd.read_csv(csv_name)\n",
    "\n",
    "data=data.query('PRECTOTCORR != -999.0 and TOA_SW_DWN != -999.0 and DOY != 366')\n",
    "data['month']=data['DOY'].apply(mes)\n",
    "del data['YEAR']\n",
    "del data['DOY']\n",
    "data=data.groupby('month').mean()\n",
    "data=data.reindex(index)\n",
    "data_ready=data.to_excel('water_balance_data.xlsx', sheet_name='Sheet1')"
   ]
  },
  {
   "cell_type": "markdown",
   "metadata": {},
   "source": [
    "# _______________________________________________________________________________________________________ #"
   ]
  },
  {
   "cell_type": "markdown",
   "metadata": {},
   "source": [
    "1. POWER | NASA Data Access viewer: https://power.larc.nasa.gov/data-access-viewer/\n",
    "2. URL Handling module: https://docs.python.org/3/library/urllib.html"
   ]
  },
  {
   "cell_type": "code",
   "execution_count": null,
   "metadata": {},
   "outputs": [],
   "source": []
  }
 ],
 "metadata": {
  "kernelspec": {
   "display_name": "Python 3",
   "language": "python",
   "name": "python3"
  },
  "language_info": {
   "codemirror_mode": {
    "name": "ipython",
    "version": 3
   },
   "file_extension": ".py",
   "mimetype": "text/x-python",
   "name": "python",
   "nbconvert_exporter": "python",
   "pygments_lexer": "ipython3",
   "version": "3.7.1"
  }
 },
 "nbformat": 4,
 "nbformat_minor": 2
}
